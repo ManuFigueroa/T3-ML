{
 "cells": [
  {
   "cell_type": "markdown",
   "metadata": {},
   "source": [
    "## Pregunta 3: Reconocimiento de imágenes en CIFAR10\n",
    "\n",
    "En esta sección trabajaremos con un dataset muy utilizado para experimentar con reconocimiento de imágenes:\n",
    "CIFAR10. Se trata de un conjunto de 60:000 imágenes RGB de 32 x 32 pixeles que contiene 10 clases de\n",
    "objetos (6000 ejemplos por clase). La versión utilizada viene separada en 50000 ejemplos\n",
    "de entrenamiento y 10000 casos de prueba. El conjunto de pruebas fue obtenido seleccionando 1000 imágenes\n",
    "aleatorias de cada clase. Los datos restantes han sido ordenados aleatoriamente y están organizados en 5\n",
    "bloques de entrenamiento (batches). Las clases son mutuamente excluyentes y corresponden a las siguientes\n",
    "categorías: gato, perro, rana, caballo, pájaro, ciervo, avión, automóvil, camión y barco.\n",
    "\n",
    "### a) Carga de datos\n",
    "\n",
    "Primero se definen funciones para cargar los datos separados en 3 sets: Entrenamiento, test y validación."
   ]
  },
  {
   "cell_type": "code",
   "execution_count": 2,
   "metadata": {
    "collapsed": true
   },
   "outputs": [],
   "source": [
    "def unpickle(file):\n",
    "    import cPickle\n",
    "    fo = open(file, 'rb')\n",
    "    dict = cPickle.load(fo)\n",
    "    fo.close()\n",
    "    return dict\n",
    "\n",
    "label_names = ['airplane', 'automobile', 'bird', 'cat', 'deer', 'dog', 'frog', 'horse', 'ship', 'truck']\n",
    "\n",
    "from scipy.misc import imread\n",
    "import cPickle as pickle\n",
    "import numpy as np\n",
    "import os\n",
    "from sklearn.cross_validation import train_test_split\n",
    "from matplotlib import pyplot as plt\n",
    "%matplotlib inline\n",
    "\n",
    "def load_CIFAR_one(filename):\n",
    "    with open(filename, 'rb') as f:\n",
    "        datadict = pickle.load(f)\n",
    "        X = datadict['data']\n",
    "        Y = datadict['labels']\n",
    "        return X, np.array(Y)\n",
    "\n",
    "def load_CIFAR10(PATH):\n",
    "    xs = []\n",
    "    ys = []\n",
    "    for b in range(1,6):\n",
    "        f = os.path.join(PATH, 'data_batch_%d' % (b, ))\n",
    "        X, Y = load_CIFAR_one(f)\n",
    "        xs.append(X)\n",
    "        ys.append(Y)\n",
    "    X1 = np.concatenate(xs)\n",
    "    Y1 = np.concatenate(ys)\n",
    "    del X, Y\n",
    "    Xte, Yte = load_CIFAR_one(os.path.join(PATH, 'test_batch'))\n",
    "    #X1 y Y1 eran el training, se dividen en train y validación.\n",
    "    Xtr, Xval, Ytr, Yval = train_test_split(X1, Y1, test_size=0.2, random_state=0)\n",
    "    del X1, Y1\n",
    "    return Xtr, Ytr, Xte, Yte, Xval, Yval"
   ]
  },
  {
   "cell_type": "code",
   "execution_count": 3,
   "metadata": {
    "collapsed": true
   },
   "outputs": [],
   "source": [
    "Xtr, Ytr, Xte, Yte, Xval, Yval = load_CIFAR10('.')"
   ]
  },
  {
   "cell_type": "markdown",
   "metadata": {},
   "source": [
    "### b) Pre-procesamiento de datos.\n",
    "\n",
    "Los datos son valores entre 0 y 255 que corresponden a pixeles, se escalan y se centran restando el promedio y dividiendo por la desviación estándar para pasarlos a una red neuronal. \n",
    "\n",
    "También se alteran los vectores target para que sean categóricos."
   ]
  },
  {
   "cell_type": "code",
   "execution_count": 4,
   "metadata": {
    "collapsed": false,
    "scrolled": false
   },
   "outputs": [
    {
     "name": "stderr",
     "output_type": "stream",
     "text": [
      "Using Theano backend.\n",
      "C:\\Users\\Manuel\\Anaconda2\\lib\\site-packages\\sklearn\\utils\\validation.py:420: DataConversionWarning: Data with input dtype uint8 was converted to float64 by StandardScaler.\n",
      "  warnings.warn(msg, DataConversionWarning)\n",
      "C:\\Users\\Manuel\\Anaconda2\\lib\\site-packages\\sklearn\\utils\\validation.py:420: DataConversionWarning: Data with input dtype uint8 was converted to float64 by StandardScaler.\n",
      "  warnings.warn(msg, DataConversionWarning)\n",
      "C:\\Users\\Manuel\\Anaconda2\\lib\\site-packages\\sklearn\\utils\\validation.py:420: DataConversionWarning: Data with input dtype uint8 was converted to float64 by StandardScaler.\n",
      "  warnings.warn(msg, DataConversionWarning)\n",
      "C:\\Users\\Manuel\\Anaconda2\\lib\\site-packages\\sklearn\\utils\\validation.py:420: DataConversionWarning: Data with input dtype uint8 was converted to float64 by StandardScaler.\n",
      "  warnings.warn(msg, DataConversionWarning)\n"
     ]
    }
   ],
   "source": [
    "from sklearn.preprocessing import StandardScaler\n",
    "from keras.utils.np_utils import to_categorical\n",
    "\n",
    "def scaler_function(Xtr,Xt,Xv,scale=True):\n",
    "    scaler = StandardScaler(with_std=scale).fit(Xtr)\n",
    "    Xtr_scaled = scaler.transform(Xtr)\n",
    "    Xt_scaled = scaler.transform(Xt)\n",
    "    Xv_scaled = scaler.transform(Xv)\n",
    "    return Xtr_scaled, Xt_scaled, Xv_scaled\n",
    "\n",
    "Xtr,Xte,Xval = scaler_function(Xtr,Xte,Xval,True)\n",
    "\n",
    "Ytr = to_categorical(Ytr)\n",
    "Yte = to_categorical(Yte)\n",
    "Yval = to_categorical(Yval)"
   ]
  },
  {
   "cell_type": "markdown",
   "metadata": {},
   "source": [
    "### c) ANN\n",
    "\n",
    "Se crea una red neuronal artificial a partir de los datos escalados:"
   ]
  },
  {
   "cell_type": "code",
   "execution_count": 20,
   "metadata": {
    "collapsed": true
   },
   "outputs": [],
   "source": [
    "from keras.models import Sequential\n",
    "from keras.layers import Dense, Activation, Dropout\n",
    "from keras.optimizers import SGD\n",
    "\n",
    "def do_ANN(Xtr, Ytr, Xte, Yte, Xval, Yval):\n",
    "    model = Sequential()\n",
    "    model.add(Dense(100, input_dim=Xtr.shape[1], init='uniform', activation='relu'))\n",
    "    model.add(Dropout(0.1))\n",
    "    model.add(Dense(10, init='uniform', activation='softmax'))\n",
    "    model.compile(optimizer=SGD(lr=0.05), loss='binary_crossentropy', metrics=['accuracy'])\n",
    "    model.fit(Xtr, Ytr, nb_epoch=50, batch_size=32, verbose=0, validation_data=(Xval,Yval))\n",
    "    \n",
    "    scores_tr = model.evaluate(Xtr, Ytr)\n",
    "    scores_val = model.evaluate(Xval, Yval)\n",
    "    scores_te = model.evaluate(Xte, Yte)    \n",
    "    print \"\\nAccuracy train: %f\"%(scores_tr[1])\n",
    "    print \"Accuracy validacion: %f\"%(scores_val[1])\n",
    "    print \"Accuracy test: %f\"%(scores_te[1])"
   ]
  },
  {
   "cell_type": "code",
   "execution_count": 21,
   "metadata": {
    "collapsed": false
   },
   "outputs": [
    {
     "name": "stdout",
     "output_type": "stream",
     "text": [
      "10000/10000 [==============================] - 0s     \n",
      "\n",
      "Accuracy train: 0.951998\n",
      "Accuracy validacion: 0.914800\n",
      "Accuracy test: 0.915190\n"
     ]
    }
   ],
   "source": [
    "do_ANN(Xtr, Ytr, Xte, Yte, Xval, Yval)"
   ]
  },
  {
   "cell_type": "markdown",
   "metadata": {},
   "source": [
    "La red neuronal tiene muy buenos resultados, prediciendo correctamente la categoría para sobre el 91% de las imágenes.\n",
    "\n",
    "### d) Extracción de atributos de alto nivel\n",
    "\n",
    "La red creada anteriormente crea sus predicciones a partir de la información RGB de los pixeles, el modelo se puede mejorar utilizando atributos de más alto nivel. \n",
    "\n",
    "En este caso se extraerán histogramas de tono de las imágenes, que son básicamente histogramas que cuentan la cantidad de pixeles que tienen cada tono (de 0 a 255), y descriptores HOG que son histogramas de gradientes orientados extraidos de subsecciones regulares de las imágenes, sirven para detectar formas y orientaciones de los bordes presentes en una imagen."
   ]
  },
  {
   "cell_type": "code",
   "execution_count": 5,
   "metadata": {
    "collapsed": false
   },
   "outputs": [],
   "source": [
    "from top_level_features import color_histogram_hsv\n",
    "from top_level_features import hog_features\n",
    "from top_level_features import extract_features\n",
    "Xtr, Ytr, Xte, Yte, Xval, Yval = load_CIFAR10('.')\n",
    "Ytr = to_categorical(Ytr)\n",
    "Yte = to_categorical(Yte)\n",
    "Yval = to_categorical(Yval)"
   ]
  },
  {
   "cell_type": "code",
   "execution_count": null,
   "metadata": {
    "collapsed": true
   },
   "outputs": [],
   "source": [
    "features_tr = extract_features(Xtr,[hog_features]) #extrae hog features\n",
    "features_te = extract_features(Xte,[hog_features]) #extrae hog features\n",
    "features_val = extract_features(Xval,[hog_features]) #extrae hog features\n",
    "\n",
    "print Xtr.shape\n",
    "print features_tr.shape"
   ]
  },
  {
   "cell_type": "markdown",
   "metadata": {},
   "source": [
    "Los datos originales tienen 3072 dimensiones para cada dato (32x32 pixeles x 3 canales R, G y B). Los descriptores HOG son solo 144 dimensiones por dato."
   ]
  },
  {
   "cell_type": "code",
   "execution_count": 39,
   "metadata": {
    "collapsed": false,
    "scrolled": false
   },
   "outputs": [
    {
     "name": "stdout",
     "output_type": "stream",
     "text": [
      " 9888/10000 [============================>.] - ETA: 0s\n",
      "Accuracy train: 0.936840\n",
      "Accuracy validacion: 0.924320\n",
      "Accuracy test: 0.924850\n"
     ]
    }
   ],
   "source": [
    "features_tr,features_te,features_val = scaler_function(features_tr,features_te,features_val,True)\n",
    "\n",
    "do_ANN(features_tr, Ytr, features_te, Yte, features_val, Yval)"
   ]
  },
  {
   "cell_type": "markdown",
   "metadata": {},
   "source": [
    "Al trabajar con los HOG values se mejora la accuracy de la red neuronal ena proximadamente 1% para el set de pruebas. "
   ]
  },
  {
   "cell_type": "code",
   "execution_count": 40,
   "metadata": {
    "collapsed": false
   },
   "outputs": [
    {
     "name": "stdout",
     "output_type": "stream",
     "text": [
      "(40000L, 32L, 32L, 3L)\n",
      "(10000L, 32L, 32L, 3L)\n",
      "(10000L, 32L, 32L, 3L)\n",
      "(40000L, 3072L)\n",
      "(40000L, 10L)\n"
     ]
    }
   ],
   "source": [
    "features_tr = extract_features(Xtr,[color_histogram_hsv]) #extrae histogramas de color\n",
    "features_te = extract_features(Xte,[color_histogram_hsv]) #extrae histogramas de color\n",
    "features_val = extract_features(Xval,[color_histogram_hsv]) #extrae histogramas de color\n",
    "\n",
    "print Xtr.shape\n",
    "print features_tr.shape"
   ]
  },
  {
   "cell_type": "markdown",
   "metadata": {},
   "source": [
    "Los histogramas de color son aún menos features, sólo 10 por cada dato."
   ]
  },
  {
   "cell_type": "code",
   "execution_count": 41,
   "metadata": {
    "collapsed": false
   },
   "outputs": [
    {
     "name": "stdout",
     "output_type": "stream",
     "text": [
      " 9120/10000 [==========================>...] - ETA: 0s\n",
      "Accuracy train: 0.900353\n",
      "Accuracy validacion: 0.900390\n",
      "Accuracy test: 0.900760\n"
     ]
    }
   ],
   "source": [
    "features_tr,features_te,features_val = scaler_function(features_tr,features_te,features_val,True)\n",
    "\n",
    "do_ANN(features_tr, Ytr, features_te, Yte, features_val, Yval)"
   ]
  },
  {
   "cell_type": "markdown",
   "metadata": {},
   "source": [
    "Al utilizar los histogramas de color, aunque sean sólo 10 descriptores se logra un accuracy de 90%, muy cercano al entrenamiento con los datos de los pixeles en bruto pero con un proceso de entrenamiento de la red mucho más rápido."
   ]
  },
  {
   "cell_type": "code",
   "execution_count": 52,
   "metadata": {
    "collapsed": false
   },
   "outputs": [
    {
     "name": "stdout",
     "output_type": "stream",
     "text": [
      "(40000L, 32L, 32L, 3L)\n",
      "(10000L, 32L, 32L, 3L)\n",
      "(10000L, 32L, 32L, 3L)\n",
      "(40000L, 3072L)\n",
      "(40000L, 154L)\n"
     ]
    }
   ],
   "source": [
    "features_tr = extract_features(Xtr,[hog_features, color_histogram_hsv]) #extrae todo\n",
    "features_te = extract_features(Xte,[hog_features, color_histogram_hsv]) #extrae todo\n",
    "features_val = extract_features(Xval,[hog_features, color_histogram_hsv]) #extrae todo\n",
    "\n",
    "print Xtr.shape\n",
    "print features_tr.shape"
   ]
  },
  {
   "cell_type": "code",
   "execution_count": 44,
   "metadata": {
    "collapsed": false
   },
   "outputs": [
    {
     "name": "stdout",
     "output_type": "stream",
     "text": [
      " 9952/10000 [============================>.] - ETA: 0s\n",
      "Accuracy train: 0.940553\n",
      "Accuracy validacion: 0.926770\n",
      "Accuracy test: 0.927140\n"
     ]
    }
   ],
   "source": [
    "features_tr,features_te,features_val = scaler_function(features_tr,features_te,features_val,True)\n",
    "\n",
    "do_ANN(features_tr, Ytr, features_te, Yte, features_val, Yval)"
   ]
  },
  {
   "cell_type": "markdown",
   "metadata": {},
   "source": [
    "Finalmente al utilizar descriptores HOG e histogramas de color en conjunto se mejora el resultado hasta un 92.7% de accuracy."
   ]
  },
  {
   "cell_type": "markdown",
   "metadata": {},
   "source": [
    "### e) SVM no lineal"
   ]
  },
  {
   "cell_type": "code",
   "execution_count": 22,
   "metadata": {
    "collapsed": true
   },
   "outputs": [],
   "source": [
    "from sklearn.svm import SVC\n",
    "def do_SVC(Xtr, Ytr, Xval, Yval):\n",
    "    Cs = np.logspace(-2, 4,base=2, num=7)\n",
    "    best = 0\n",
    "    val_acc = []\n",
    "    train_acc = []\n",
    "        \n",
    "    for C in Cs:\n",
    "        print \"Entrenando con c =\", C\n",
    "        clf = SVC(C, kernel='rbf')        \n",
    "        clf.fit(Xtr,Ytr)\n",
    "        \n",
    "        val_acc.append(clf.score(Xval,Yval))\n",
    "        train_acc.append(clf.score(Xtr,Ytr))\n",
    "        \n",
    "        if(clf.score(Xval,Yval) > best):\n",
    "            best = clf.score(Xval,Yval)\n",
    "            model = clf\n",
    "            print \"Accuracy mejorada a \", best, \" con c= \", C\n",
    "        \n",
    "    return model, val_acc, train_acc\n",
    "\n",
    "Xtr, Ytr, Xte, Yte, Xval, Yval = load_CIFAR10('.')"
   ]
  },
  {
   "cell_type": "markdown",
   "metadata": {},
   "source": [
    "La función SVC de sklearn no escala bien con sets de entrenamiento mayores a 10000 datos, por lo que se tomarán los primeros datos del set para entrenar la máquina."
   ]
  },
  {
   "cell_type": "code",
   "execution_count": 16,
   "metadata": {
    "collapsed": true
   },
   "outputs": [],
   "source": [
    "Xtr = Xtr[:10000]\n",
    "Ytr = Ytr[:10000]"
   ]
  },
  {
   "cell_type": "code",
   "execution_count": 13,
   "metadata": {
    "collapsed": false
   },
   "outputs": [
    {
     "name": "stdout",
     "output_type": "stream",
     "text": [
      "(10000L, 32L, 32L, 3L)\n",
      "(10000L, 32L, 32L, 3L)\n",
      "(10000L, 32L, 32L, 3L)\n"
     ]
    }
   ],
   "source": [
    "features_tr = extract_features(Xtr,[hog_features, color_histogram_hsv]) #extrae todo\n",
    "features_te = extract_features(Xte,[hog_features, color_histogram_hsv]) #extrae todo\n",
    "features_val = extract_features(Xval,[hog_features, color_histogram_hsv]) #extrae todo\n",
    "\n",
    "features_tr,features_te,features_val = scaler_function(features_tr,features_te,features_val,True)"
   ]
  },
  {
   "cell_type": "code",
   "execution_count": 17,
   "metadata": {
    "collapsed": false
   },
   "outputs": [
    {
     "name": "stdout",
     "output_type": "stream",
     "text": [
      "Entrenando con c = 0.25\n",
      "Entrenando con c = 0.5\n",
      "Entrenando con c = 1.0\n",
      "Entrenando con c = 2.0\n",
      "Entrenando con c = 4.0\n",
      "Entrenando con c = 8.0\n",
      "Entrenando con c = 16.0\n",
      "SVC Accuracy test:  0.5442\n"
     ]
    }
   ],
   "source": [
    "SVC_model, val_acc, train_acc = do_SVC(features_tr, Ytr, features_val, Yval)\n",
    "print \"SVC Accuracy test: \",SVC_model.score(features_te, Yte)"
   ]
  },
  {
   "cell_type": "code",
   "execution_count": 19,
   "metadata": {
    "collapsed": false
   },
   "outputs": [
    {
     "data": {
      "image/png": "[encoded data removed]",
      "text/plain": [
       "<matplotlib.figure.Figure at 0xb5b6470>"
      ]
     },
     "metadata": {},
     "output_type": "display_data"
    }
   ],
   "source": [
    "Cs = np.logspace(-2, 4,base=2, num=7)\n",
    "plt.figure(figsize=(5,3))\n",
    "ax = plt.gca()\n",
    "ax.plot(Cs,val_acc,label='Validation Accuracy')\n",
    "ax.plot(Cs,train_acc,label='Train Accuracy')\n",
    "plt.legend(bbox_to_anchor=(1.05, 1), loc=2, borderaxespad=0.)\n",
    "plt.xlabel('C')\n",
    "plt.ylabel('Accuracy')\n",
    "plt.title('SVC', fontsize= 16)\n",
    "#plt.ylim([0,1])\n",
    "ax.set_xscale('linear')\n",
    "plt.show()"
   ]
  },
  {
   "cell_type": "markdown",
   "metadata": {},
   "source": [
    "En el gráfico se observa que para la SVC al aumentar el valor de C el modelo se sobreajusta a los datos de entrenamiento pero no se observan mejoras en el set de validación, al probar el mejor modelo con C=2 en el set pruebas se obtiene una accuracy de sólo 0.544, el proceso es además mucho más lento que la red neuronal incluso cuando se entrena con sólo 1/4 de los datos disponibles.\n",
    "\n",
    "Debido a la dimensionalidad de los datos no se comparó la SVC con los canales RGB de los pixeles.\n",
    "\n",
    "### f) Árboles de clasificación\n",
    "\n",
    "Se entrenan árboles con los pixeles en bruto y con los indicadores de alto nivel"
   ]
  },
  {
   "cell_type": "code",
   "execution_count": 19,
   "metadata": {
    "collapsed": false
   },
   "outputs": [],
   "source": [
    "from sklearn.tree import DecisionTreeClassifier as Tree\n",
    "def do_Tree(Xtr, Ytr, Xval, Yval):\n",
    "    best = 0\n",
    "    val_acc = []\n",
    "    train_acc = []\n",
    "        \n",
    "    for d in range(5,16):\n",
    "        print \"Entrenando con max_depth =\", d\n",
    "        clf = Tree(criterion='gini',splitter='best',max_depth=d)        \n",
    "        clf.fit(Xtr,Ytr)\n",
    "        \n",
    "        val_acc.append(clf.score(Xval,Yval))\n",
    "        train_acc.append(clf.score(Xtr,Ytr))\n",
    "        \n",
    "        if(clf.score(Xval,Yval) > best):\n",
    "            best = clf.score(Xval,Yval)\n",
    "            model = clf\n",
    "            print \"Accuracy mejorada a \", best,\" max depth: \", d\n",
    "        \n",
    "    return model, val_acc, train_acc\n",
    "\n",
    "Xtr, Ytr, Xte, Yte, Xval, Yval = load_CIFAR10('.')"
   ]
  },
  {
   "cell_type": "code",
   "execution_count": 12,
   "metadata": {
    "collapsed": false
   },
   "outputs": [
    {
     "name": "stdout",
     "output_type": "stream",
     "text": [
      "Entrenando con max_depth = 5\n",
      "Accuracy mejorada a  0.2567  max depth:  5\n",
      "Entrenando con max_depth = 6\n",
      "Accuracy mejorada a  0.2678  max depth:  6\n",
      "Entrenando con max_depth = 7\n",
      "Accuracy mejorada a  0.2825  max depth:  7\n",
      "Entrenando con max_depth = 8\n",
      "Accuracy mejorada a  0.2898  max depth:  8\n",
      "Entrenando con max_depth = 9\n",
      "Accuracy mejorada a  0.2987  max depth:  9\n",
      "Entrenando con max_depth = 10\n",
      "Entrenando con max_depth = 11\n",
      "Entrenando con max_depth = 12\n",
      "Entrenando con max_depth = 13\n",
      "Entrenando con max_depth = 14\n",
      "Entrenando con max_depth = 15\n",
      "Tree Accuracy test:  0.3016\n"
     ]
    }
   ],
   "source": [
    "tree_n, val_acc, train_acc = do_Tree(Xtr, Ytr, Xval, Yval)\n",
    "print \"Tree Accuracy test: \", tree_n.score(Xte, Yte)"
   ]
  },
  {
   "cell_type": "markdown",
   "metadata": {},
   "source": [
    "Al utilizar los datos en bruto el algoritmo tarda mucho en ejecutar y los resultados no son buenos, se utilizarán los datos de alto nivel para acelerar el entrenamiento y mejorar los resultados."
   ]
  },
  {
   "cell_type": "code",
   "execution_count": 13,
   "metadata": {
    "collapsed": false
   },
   "outputs": [
    {
     "name": "stdout",
     "output_type": "stream",
     "text": [
      "(40000L, 32L, 32L, 3L)\n",
      "(10000L, 32L, 32L, 3L)\n",
      "(10000L, 32L, 32L, 3L)\n"
     ]
    }
   ],
   "source": [
    "features_tr = extract_features(Xtr,[hog_features, color_histogram_hsv]) #extrae todo\n",
    "features_te = extract_features(Xte,[hog_features, color_histogram_hsv]) #extrae todo\n",
    "features_val = extract_features(Xval,[hog_features, color_histogram_hsv]) #extrae todo\n",
    "\n",
    "features_tr,features_te,features_val = scaler_function(features_tr,features_te,features_val,True)"
   ]
  },
  {
   "cell_type": "code",
   "execution_count": 20,
   "metadata": {
    "collapsed": false
   },
   "outputs": [
    {
     "name": "stdout",
     "output_type": "stream",
     "text": [
      "Entrenando con max_depth = 5\n",
      "Accuracy mejorada a  0.2676  max depth:  5\n",
      "Entrenando con max_depth = 6\n",
      "Accuracy mejorada a  0.2888  max depth:  6\n",
      "Entrenando con max_depth = 7\n",
      "Accuracy mejorada a  0.2966  max depth:  7\n",
      "Entrenando con max_depth = 8\n",
      "Accuracy mejorada a  0.3108  max depth:  8\n",
      "Entrenando con max_depth = 9\n",
      "Accuracy mejorada a  0.3121  max depth:  9\n",
      "Entrenando con max_depth = 10\n",
      "Accuracy mejorada a  0.3174  max depth:  10\n",
      "Entrenando con max_depth = 11\n",
      "Entrenando con max_depth = 12\n",
      "Entrenando con max_depth = 13\n",
      "Entrenando con max_depth = 14\n",
      "Entrenando con max_depth = 15\n",
      "Tree Accuracy test:  0.3172\n"
     ]
    }
   ],
   "source": [
    "tree_f, val_acc, train_acc = do_Tree(features_tr, Ytr, features_val, Yval)\n",
    "print \"Tree Accuracy test: \", tree_f.score(features_te, Yte)"
   ]
  },
  {
   "cell_type": "markdown",
   "metadata": {},
   "source": [
    "Como era de esperarse, la precisión del algoritmo mejora al utilizar los atributos de alto nivel, pero lo más importante es que el entrenamiento del árbol es considerablemente más rápido.\n",
    "\n",
    "Entre todos los modelos se mantiene que utilizar los atributos de alto nivel es mucho más eficaz y eficiente, se observa que las redes neuronales son superiores por un margen muy ancho frente a los otros modelos aunque se podrían realizar más pruebas utilizando otros kernel en SVC por ejemplo o alterando otros parámetros del árbol, sin embargo,  parece dificil a partir de los experimentos realizados que se supere la calidad de las ANN con sólo una SVC o un árbol de clasificación."
   ]
  }
 ],
 "metadata": {
  "anaconda-cloud": {},
  "kernelspec": {
   "display_name": "Python [conda root]",
   "language": "python",
   "name": "conda-root-py"
  },
  "language_info": {
   "codemirror_mode": {
    "name": "ipython",
    "version": 2
   },
   "file_extension": ".py",
   "mimetype": "text/x-python",
   "name": "python",
   "nbconvert_exporter": "python",
   "pygments_lexer": "ipython2",
   "version": "2.7.12"
  }
 },
 "nbformat": 4,
 "nbformat_minor": 1
}
